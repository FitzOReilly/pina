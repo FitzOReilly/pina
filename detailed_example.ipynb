{
 "cells": [
  {
   "cell_type": "markdown",
   "metadata": {},
   "source": [
    "# Detailed Example\n",
    "\n",
    "This example shows how to use the pinch package and explains each step in detail.\n",
    "\n",
    "## Creating streams\n",
    "A stream can consist of one or multiple segments. So let's first create a cold segment that requires 360 kW to be heated from 30 °C to 150 °C."
   ]
  },
  {
   "cell_type": "code",
   "execution_count": 1,
   "metadata": {},
   "outputs": [],
   "source": [
    "from pinch import segment\n",
    "cold_segment = segment.new(-360, 30, 150)  # Heat flow, supply temperature, target temperature"
   ]
  },
  {
   "cell_type": "markdown",
   "metadata": {},
   "source": [
    "The most common convention which is also used in this package is that cold streams (and segments) have negative heat flow and hot streams have positive heat flow.  \n",
    "The units are not explicitly stated here. You can use any units you like as long as they are consistent.\n",
    "\n",
    "We can now create a stream from this segment."
   ]
  },
  {
   "cell_type": "code",
   "execution_count": 2,
   "metadata": {},
   "outputs": [],
   "source": [
    "from pinch.stream import Stream\n",
    "cold_stream = Stream([cold_segment])"
   ]
  },
  {
   "cell_type": "markdown",
   "metadata": {},
   "source": [
    "The square brackets are needed because Stream accepts a list of segments.  \n",
    "Let's create another stream, this time a hot stream consisting of multiple segments."
   ]
  },
  {
   "cell_type": "code",
   "execution_count": 3,
   "metadata": {},
   "outputs": [],
   "source": [
    "hot_stream = Stream([\n",
    "    segment.new(20, 140, 100),\n",
    "    segment.new(90, 100, 100),  # Latent heat\n",
    "    segment.new(30, 100, 60)\n",
    "])"
   ]
  },
  {
   "cell_type": "markdown",
   "metadata": {},
   "source": [
    "The second segment has equal supply and target temperature and represents a latent heat load (condensation in this case).\n",
    "\n",
    "## Calculating energy targets\n",
    "\n",
    "We can use the `StreamAnalyzer` class to perform a pinch analysis."
   ]
  },
  {
   "cell_type": "code",
   "execution_count": 4,
   "metadata": {},
   "outputs": [],
   "source": [
    "from pinch.stream_analyzer import StreamAnalyzer\n",
    "min_temp_diff = 10\n",
    "default_temp_shift = min_temp_diff / 2\n",
    "analyzer = StreamAnalyzer(default_temp_shift, [cold_stream, hot_stream])"
   ]
  },
  {
   "cell_type": "markdown",
   "metadata": {},
   "source": [
    "### Shifted Temperature\n",
    "\n",
    "We need to shift the temperatures to account for the temperature difference between hot and cold streams. It can also be set for individual streams and segments. If it is given, the default value is ignored."
   ]
  },
  {
   "cell_type": "code",
   "execution_count": 5,
   "metadata": {},
   "outputs": [],
   "source": [
    "another_cold_stream = Stream([\n",
    "    segment.new(-20, 5, 20, 2)  # The last argument is temp_shift=2\n",
    "])\n",
    "another_hot_stream = Stream([segment.new(160, 60, 20)])\n",
    "analyzer.add([another_cold_stream, another_hot_stream])"
   ]
  },
  {
   "cell_type": "markdown",
   "metadata": {},
   "source": [
    "We can now obtain the energy targets from the stream analyzer."
   ]
  },
  {
   "cell_type": "code",
   "execution_count": 6,
   "metadata": {},
   "outputs": [
    {
     "data": {
      "text/plain": [
       "380.0"
      ]
     },
     "execution_count": 6,
     "metadata": {},
     "output_type": "execute_result"
    }
   ],
   "source": [
    "analyzer.heating_demand"
   ]
  },
  {
   "cell_type": "code",
   "execution_count": 7,
   "metadata": {},
   "outputs": [
    {
     "data": {
      "text/plain": [
       "300.0"
      ]
     },
     "execution_count": 7,
     "metadata": {},
     "output_type": "execute_result"
    }
   ],
   "source": [
    "analyzer.cooling_demand"
   ]
  },
  {
   "cell_type": "code",
   "execution_count": 8,
   "metadata": {},
   "outputs": [
    {
     "data": {
      "text/plain": [
       "160.0"
      ]
     },
     "execution_count": 8,
     "metadata": {},
     "output_type": "execute_result"
    }
   ],
   "source": [
    "analyzer.hot_utility_target"
   ]
  },
  {
   "cell_type": "code",
   "execution_count": 9,
   "metadata": {},
   "outputs": [
    {
     "data": {
      "text/plain": [
       "80.0"
      ]
     },
     "execution_count": 9,
     "metadata": {},
     "output_type": "execute_result"
    }
   ],
   "source": [
    "analyzer.cold_utility_target"
   ]
  },
  {
   "cell_type": "code",
   "execution_count": 10,
   "metadata": {},
   "outputs": [
    {
     "data": {
      "text/plain": [
       "220.0"
      ]
     },
     "execution_count": 10,
     "metadata": {},
     "output_type": "execute_result"
    }
   ],
   "source": [
    "analyzer.heat_recovery_target"
   ]
  },
  {
   "cell_type": "code",
   "execution_count": 11,
   "metadata": {},
   "outputs": [
    {
     "data": {
      "text/plain": [
       "[55.0, 95.0]"
      ]
     },
     "execution_count": 11,
     "metadata": {},
     "output_type": "execute_result"
    }
   ],
   "source": [
    "analyzer.pinch_temps  # Returns a list because multiple pinches are possible"
   ]
  },
  {
   "cell_type": "markdown",
   "metadata": {},
   "source": [
    "It can also give us heat cascades that can be used to plot composite curves."
   ]
  },
  {
   "cell_type": "code",
   "execution_count": 12,
   "metadata": {},
   "outputs": [
    {
     "name": "stdout",
     "output_type": "stream",
     "text": [
      "Cold cascade\n",
      "Heat flows: [80.0, 100.0, 100.0, 460.0]\n",
      "Temperatures: [5, 20, 30, 150]\n"
     ]
    }
   ],
   "source": [
    "(cc_heat_flows, cc_temps) = analyzer.cold_cascade.cumulative_heat_flow\n",
    "print(\n",
    "    \"Cold cascade\\nHeat flows: {}\\nTemperatures: {}\"\n",
    "    .format(cc_heat_flows, cc_temps)\n",
    ")"
   ]
  },
  {
   "cell_type": "markdown",
   "metadata": {},
   "source": [
    "Aside from `cold_cascade`, this also works for `hot_cascade`, `shifted_cold_cascade`, `shifted_hot_cascade` and `grand_cascade`."
   ]
  },
  {
   "cell_type": "code",
   "execution_count": 13,
   "metadata": {},
   "outputs": [
    {
     "name": "stdout",
     "output_type": "stream",
     "text": [
      "Shifted cold cascade\n",
      "Heat flows: [80.0, 100.0, 100.0, 460.0]\n",
      "Temperatures: [7, 22, 35.0, 155.0]\n"
     ]
    }
   ],
   "source": [
    "print(\n",
    "    \"Shifted cold cascade\\nHeat flows: {}\\nTemperatures: {}\"\n",
    "    .format(*analyzer.shifted_cold_cascade.cumulative_heat_flow)\n",
    ")"
   ]
  },
  {
   "cell_type": "markdown",
   "metadata": {},
   "source": [
    "We can see that the temperatures 5 °C and 20 °C have been shifted by 2 K to 7 °C and 22 °C, while 30 °C and 150 °C have been shifted by 5 K to 35 °C and 155 °C. This is because we used a default temperature shift of 5 K, but `another_cold_stream` has an individual temperature shift of 2 K.\n",
    "\n",
    "## Plotting composite curves\n",
    "\n",
    "This data can be used to plot composite curves. Here's an example using matplotlib."
   ]
  },
  {
   "cell_type": "code",
   "execution_count": 14,
   "metadata": {},
   "outputs": [
    {
     "data": {
      "image/png": "[encoded data removed]",
      "text/plain": [
       "<Figure size 1152x504 with 2 Axes>"
      ]
     },
     "metadata": {
      "needs_background": "light"
     },
     "output_type": "display_data"
    }
   ],
   "source": [
    "from matplotlib import pyplot as plt\n",
    "\n",
    "fig, ax = plt.subplots(1, 2, figsize=(16, 7))\n",
    "\n",
    "ax[0].plot(*analyzer.hot_cascade.cumulative_heat_flow, color=\"tab:red\", linestyle=\"--\", label=\"HCC\")\n",
    "ax[0].plot(*analyzer.cold_cascade.cumulative_heat_flow, color=\"tab:blue\", linestyle=\"-\", label=\"CCC\")\n",
    "ax[0].legend()\n",
    "ax[0].set_title(\"Hot and cold composite curves\")\n",
    "ax[0].set_xlabel(\"Heat flow [kW]\")\n",
    "ax[0].set_ylabel(\"Actual temperature [\\u2103]\")\n",
    "\n",
    "ax[1].plot(*analyzer.grand_cascade.cumulative_heat_flow, color=\"k\", linestyle=\"-\", label=\"GCC\")\n",
    "ax[1].legend()\n",
    "ax[1].set_title(\"Grand composite curve\")\n",
    "ax[1].set_xlabel(\"Net heat flow [kW]\")\n",
    "ax[1].set_ylabel(\"Shifted temperature [\\u2103]\")\n",
    "\n",
    "# Make the y-axis equal in both plots\n",
    "ylims = (*ax[0].get_ylim(), *ax[1].get_ylim())\n",
    "minmax_ylims = (min(ylims), max(ylims))\n",
    "ax[0].set_ylim(minmax_ylims)\n",
    "ax[1].set_ylim(minmax_ylims)\n",
    "\n",
    "plt.show()"
   ]
  }
 ],
 "metadata": {
  "kernelspec": {
   "display_name": "Python 3",
   "language": "python",
   "name": "python3"
  },
  "language_info": {
   "codemirror_mode": {
    "name": "ipython",
    "version": 3
   },
   "file_extension": ".py",
   "mimetype": "text/x-python",
   "name": "python",
   "nbconvert_exporter": "python",
   "pygments_lexer": "ipython3",
   "version": "3.7.6"
  }
 },
 "nbformat": 4,
 "nbformat_minor": 2
}
